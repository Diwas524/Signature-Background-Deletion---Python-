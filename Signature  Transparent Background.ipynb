{
 "cells": [
  {
   "cell_type": "code",
   "execution_count": 3,
   "metadata": {},
   "outputs": [],
   "source": [
    "import cv2\n",
    "from PIL import Image\n",
    "\n",
    "img = cv2.imread('2.jpg', cv2.IMREAD_GRAYSCALE)\n",
    "\n",
    "# define a threshold\n",
    "thresh = 110\n",
    "\n",
    "# threshold the image\n",
    "img = cv2.threshold(img, thresh, 255, cv2.THRESH_BINARY)[1]\n",
    "\n",
    "#convert nparray data\n",
    "img = Image.fromarray(img)\n",
    "img = img.convert(\"RGBA\")\n",
    "\n",
    "pixdata = img.load()\n",
    "\n",
    "width, height = img.size\n",
    "for y in range(height):\n",
    "    for x in range(width):\n",
    "        if pixdata[x, y] == (255, 255, 255, 255):   #transparent\n",
    "            pixdata[x, y] = (255, 255, 255, 0)\n",
    "\n",
    "img.save(\"img2.png\", \"PNG\")"
   ]
  },
  {
   "cell_type": "code",
   "execution_count": null,
   "metadata": {},
   "outputs": [],
   "source": []
  }
 ],
 "metadata": {
  "kernelspec": {
   "display_name": "Python 3",
   "language": "python",
   "name": "python3"
  },
  "language_info": {
   "codemirror_mode": {
    "name": "ipython",
    "version": 3
   },
   "file_extension": ".py",
   "mimetype": "text/x-python",
   "name": "python",
   "nbconvert_exporter": "python",
   "pygments_lexer": "ipython3",
   "version": "3.8.2"
  }
 },
 "nbformat": 4,
 "nbformat_minor": 4
}
